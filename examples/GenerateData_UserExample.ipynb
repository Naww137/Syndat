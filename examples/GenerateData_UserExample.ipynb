{
 "cells": [
  {
   "cell_type": "markdown",
   "metadata": {},
   "source": [
    "## User Example\n",
    "\n",
    "This notebook outlines the steps needed to use Syndat to generate a set of reduced experimental Transmission data for evaluating total neutron cross sections.\n",
    "\n",
    "The primary user controls of interest are likely:\n",
    "- energy grid structure\n",
    "- total noise amount\n",
    "- the spin groups to be considered\n",
    "- the average parameter values for each of the spin groups\n"
   ]
  },
  {
   "cell_type": "code",
   "execution_count": 56,
   "metadata": {},
   "outputs": [
    {
     "name": "stdout",
     "output_type": "stream",
     "text": [
      "['~/opt/anaconda3/lib/python3.8/fodge', '/Users/colefritsch/ENCORE/syndat/nuc_syndat', '/Users/colefritsch/ENCORE/syndat/nuc_syndat/examples', '/Users/colefritsch/ENCORE/FMatrixInterpolation/openmc', '/tmp', '/Users/colefritsch/opt/anaconda3/lib/python38.zip', '/Users/colefritsch/opt/anaconda3/lib/python3.8', '/Users/colefritsch/opt/anaconda3/lib/python3.8/lib-dynload', '', '/Users/colefritsch/opt/anaconda3/lib/python3.8/site-packages', '/Users/colefritsch/opt/anaconda3/lib/python3.8/site-packages/aeosa', '/Users/colefritsch/opt/anaconda3/lib/python3.8/site-packages/IPython/extensions', '/Users/colefritsch/.ipython', '/Users/colefritsch/opt/anaconda3/lib/python3.8/site-packages/fodge']\n"
     ]
    }
   ],
   "source": [
    "import numpy as np\n",
    "\n",
    "import sys\n",
    "# if '/Users/colefritsch/ENCORE/syndat/nuc_syndat/fudge' not in sys.path:\n",
    "#     sys.path.insert(0, '/Users/colefritsch/ENCORE/syndat/nuc_syndat/fudge')\n",
    "if '/Users/colefritsch/ENCORE/syndat/nuc_syndat' not in sys.path:\n",
    "    sys.path.insert(0,'/Users/colefritsch/ENCORE/syndat/nuc_syndat')\n",
    "if '~/opt/anaconda3/lib/python3.8/fodge' not in sys.path:\n",
    "    sys.path.insert(0,'~/opt/anaconda3/lib/python3.8/fodge')\n",
    "print(sys.path)\n",
    "\n",
    "import syndat\n",
    "import pandas as pd\n",
    "import os\n",
    "from matplotlib.pyplot import *\n"
   ]
  },
  {
   "cell_type": "code",
   "execution_count": 57,
   "metadata": {},
   "outputs": [],
   "source": [
    "# %matplotlib widget"
   ]
  },
  {
   "cell_type": "markdown",
   "metadata": {},
   "source": [
    "### Define the particle-pair of interest\n",
    "\n",
    "The particle pair class in syndat characterizes the reaction taking place. Pass is a list of spin groups and corresponding average parameters that you would like to consider for this particle pair. The format for both of these inputs is below. The method \"map_quantum_numbers\" will calculate (and print if print_out=True) the open reaction channels for given a maximum number of orbital angular momenta to consider. This can be used to visualize the spin groups that may be present in a cross section. "
   ]
  },
  {
   "cell_type": "code",
   "execution_count": 58,
   "metadata": {},
   "outputs": [],
   "source": [
    "ac = 0.81271    # scattering radius in 1e-12 cm \n",
    "M = 180.948030  # amu of target nucleus\n",
    "m = 1           # amu of incident neutron\n",
    "I = 3.5         # intrinsic spin, positive parity\n",
    "i = 0.5         # intrinsic spin, positive parity\n",
    "l_max = 1       # highest order l-wave to consider\n",
    "\n",
    "average_parameters = pd.DataFrame({ 'dE'    :   {'3.0':8.79, '4.0':4.99},\n",
    "                                    'Gg'    :   {'3.0':46.4, '4.0':35.5},\n",
    "                                    'gn2'    :   {'3.0':64.0, '4.0':64.0}  })\n",
    "\n",
    "# Ta_pair = syndat.particle_pair('/Users/colefritsch/ENCORE/syndat/nuc_syndat/syndat/params.json')\n",
    "Ta_pair = syndat.particle_pair( ac, M, m, I, i, l_max,\n",
    "                                input_options={}, spin_groups=[[3.0, 1, [0]]], average_parameters=average_parameters)\n",
    "\n",
    "# Ta_pair.map_quantum_numbers(True)"
   ]
  },
  {
   "cell_type": "markdown",
   "metadata": {},
   "source": [
    "## Instantiate an experiment\n",
    "\n",
    "The Syndat *experiment* object holds significant information about the experiment at hand and has a number of methods that will generate raw count data from a theoretical cross section through a novel method developed by Walton, et al. Before 'running' the experiment (shown a few sections down) the object must be instantiated. This allows for an experimental setup to be defined once and 'ran' multiple times (shown with the MMDA module at the very end of this notebook).\n",
    "\n",
    "\n",
    "A set of default experimental parameters is already loaded into the experiment class, however, if the user wants to re-define any this can be done by passing in a new_parameteres dictionary. The format for this is shown below. The example is that of the \"trigs\" parameter. This corresponds to the number of LINAC triggers the sample in data set was exposed to, which is proportional to the length of the measurement. Therefore, this parameter will control the noise level seen in the data.\n",
    "\n",
    "The user has the option to input an open count spectra. This is an optional input and if None is given, Syndat will aproximate the open count rate spectra as an exponential. The calculate covaraince option, if set to false, will only calculate the diagonal of the covariance matrix.\n",
    "\n",
    "To generate an energy grid that is similar to what would be seen in an experiment, you must start with time-of-flight. An experiment produces counts that are linearly spaced in time-of-flight which is related to energy by:\n",
    "\n",
    "$ KE = \\frac{1}{2}mv^2 = \\frac{1}{2}m (\\frac{FP}{ToF})^2 $ where FP is the distance or flight path and ToF is time of flight. The relativistic form of this equation can be used, however, it does not make m uch difference in this energy regime. \n",
    "\n",
    "* Note:\n",
    "    Defining a linear energy grid will result in a wild binning stucture in tof. Consider defining a tof grid instead. In practice, the tof grid has a handful (5 or so) different bin widths and a constant bin width between each point of compresssion. This is due to the artisinal nature of this process, a complicated binning stucture is less justifiable, difficult to store in EXFOR, and requires the use of a complicated resolution broadening function.\n"
   ]
  },
  {
   "cell_type": "code",
   "execution_count": 59,
   "metadata": {},
   "outputs": [],
   "source": [
    "# create an energy domain, min/max\n",
    "E_min_max = [100, 140]\n",
    "# E_min_max =[3.5, 2550]\n",
    "\n",
    "# create a linear tof grid\n",
    "E_min_max = [10, 5000]\n",
    "tof_min_max = syndat.exp_effects.e_to_t(np.array(E_min_max), 35.185, True)\n",
    "bin_width = 6.4e-9\n",
    "tof_grid = np.arange(min(tof_min_max), max(tof_min_max), bin_width)\n",
    "energy_grid = syndat.exp_effects.t_to_e(tof_grid, 35.185, True)"
   ]
  },
  {
   "cell_type": "code",
   "execution_count": 60,
   "metadata": {},
   "outputs": [
    {
     "data": {
      "text/plain": [
       "2562"
      ]
     },
     "execution_count": 60,
     "metadata": {},
     "output_type": "execute_result"
    }
   ],
   "source": [
    "# create an energy domain, min/max\n",
    "# E_min_max = [100, 120]\n",
    "# E_min_max =[3.5, 2550]\n",
    "\n",
    "### can calculate an energy grid yourself\n",
    "# tof_min_max = syndat.exp_effects.e_to_t(np.array(E_min_max),35.185, True)\n",
    "# # bin_width = 6.4e-9\n",
    "# bin_width = 0.3e-6\n",
    "# tof_grid = np.arange(min(tof_min_max), max(tof_min_max), bin_width)\n",
    "# energy_grid = syndat.exp_effects.t_to_e(tof_grid,35.185,True)\n",
    "\n",
    "### or just give the min/max and the experiment object will do the above\n",
    "energy_grid = E_min_max\n",
    "\n",
    "input_options = {'Add Noise': True,\n",
    "                'Calculate Covariance': True,\n",
    "                'Compression Points':[],\n",
    "                'Grouping Factors':None}\n",
    "\n",
    "experiment_parameters = {'bw': {'val':0.3,    'unc'   :   0}}\n",
    "\n",
    "# initialize experimental setup\n",
    "exp = syndat.experiment(energy_grid, \n",
    "                        input_options=input_options, \n",
    "                        experiment_parameters=experiment_parameters)\n",
    "len(exp.energy_domain)"
   ]
  },
  {
   "cell_type": "markdown",
   "metadata": {},
   "source": [
    "### Sample a ladder of resonances parameters using Syndat"
   ]
  },
  {
   "cell_type": "code",
   "execution_count": 61,
   "metadata": {},
   "outputs": [
    {
     "name": "stdout",
     "output_type": "stream",
     "text": [
      "setting numLevels to 578\n",
      "WARNING: non-zero offset is discouraged when using GOE realizations\n",
      "Hello!\n"
     ]
    },
    {
     "data": {
      "text/html": [
       "<div>\n",
       "<style scoped>\n",
       "    .dataframe tbody tr th:only-of-type {\n",
       "        vertical-align: middle;\n",
       "    }\n",
       "\n",
       "    .dataframe tbody tr th {\n",
       "        vertical-align: top;\n",
       "    }\n",
       "\n",
       "    .dataframe thead th {\n",
       "        text-align: right;\n",
       "    }\n",
       "</style>\n",
       "<table border=\"1\" class=\"dataframe\">\n",
       "  <thead>\n",
       "    <tr style=\"text-align: right;\">\n",
       "      <th></th>\n",
       "      <th>E</th>\n",
       "      <th>Gg</th>\n",
       "      <th>gnx2</th>\n",
       "      <th>J</th>\n",
       "      <th>chs</th>\n",
       "      <th>lwave</th>\n",
       "      <th>J_ID</th>\n",
       "    </tr>\n",
       "  </thead>\n",
       "  <tbody>\n",
       "    <tr>\n",
       "      <th>0</th>\n",
       "      <td>20</td>\n",
       "      <td>45.1149</td>\n",
       "      <td>108.88</td>\n",
       "      <td>3</td>\n",
       "      <td>1</td>\n",
       "      <td>[0]</td>\n",
       "      <td>1</td>\n",
       "    </tr>\n",
       "    <tr>\n",
       "      <th>1</th>\n",
       "      <td>36.9921</td>\n",
       "      <td>47.235</td>\n",
       "      <td>242.21</td>\n",
       "      <td>3</td>\n",
       "      <td>1</td>\n",
       "      <td>[0]</td>\n",
       "      <td>1</td>\n",
       "    </tr>\n",
       "    <tr>\n",
       "      <th>2</th>\n",
       "      <td>38.1952</td>\n",
       "      <td>44.3338</td>\n",
       "      <td>18.3604</td>\n",
       "      <td>3</td>\n",
       "      <td>1</td>\n",
       "      <td>[0]</td>\n",
       "      <td>1</td>\n",
       "    </tr>\n",
       "    <tr>\n",
       "      <th>3</th>\n",
       "      <td>59.4953</td>\n",
       "      <td>48.2684</td>\n",
       "      <td>17.5868</td>\n",
       "      <td>3</td>\n",
       "      <td>1</td>\n",
       "      <td>[0]</td>\n",
       "      <td>1</td>\n",
       "    </tr>\n",
       "    <tr>\n",
       "      <th>4</th>\n",
       "      <td>66.888</td>\n",
       "      <td>45.4843</td>\n",
       "      <td>1.39401</td>\n",
       "      <td>3</td>\n",
       "      <td>1</td>\n",
       "      <td>[0]</td>\n",
       "      <td>1</td>\n",
       "    </tr>\n",
       "    <tr>\n",
       "      <th>...</th>\n",
       "      <td>...</td>\n",
       "      <td>...</td>\n",
       "      <td>...</td>\n",
       "      <td>...</td>\n",
       "      <td>...</td>\n",
       "      <td>...</td>\n",
       "      <td>...</td>\n",
       "    </tr>\n",
       "    <tr>\n",
       "      <th>572</th>\n",
       "      <td>4965.44</td>\n",
       "      <td>46.2328</td>\n",
       "      <td>6.81727</td>\n",
       "      <td>3</td>\n",
       "      <td>1</td>\n",
       "      <td>[0]</td>\n",
       "      <td>1</td>\n",
       "    </tr>\n",
       "    <tr>\n",
       "      <th>573</th>\n",
       "      <td>4971.19</td>\n",
       "      <td>47.7673</td>\n",
       "      <td>15.8811</td>\n",
       "      <td>3</td>\n",
       "      <td>1</td>\n",
       "      <td>[0]</td>\n",
       "      <td>1</td>\n",
       "    </tr>\n",
       "    <tr>\n",
       "      <th>574</th>\n",
       "      <td>4974.33</td>\n",
       "      <td>45.9754</td>\n",
       "      <td>0.0335965</td>\n",
       "      <td>3</td>\n",
       "      <td>1</td>\n",
       "      <td>[0]</td>\n",
       "      <td>1</td>\n",
       "    </tr>\n",
       "    <tr>\n",
       "      <th>575</th>\n",
       "      <td>4985.97</td>\n",
       "      <td>45.8049</td>\n",
       "      <td>112.842</td>\n",
       "      <td>3</td>\n",
       "      <td>1</td>\n",
       "      <td>[0]</td>\n",
       "      <td>1</td>\n",
       "    </tr>\n",
       "    <tr>\n",
       "      <th>576</th>\n",
       "      <td>4999.96</td>\n",
       "      <td>45.4299</td>\n",
       "      <td>99.9216</td>\n",
       "      <td>3</td>\n",
       "      <td>1</td>\n",
       "      <td>[0]</td>\n",
       "      <td>1</td>\n",
       "    </tr>\n",
       "  </tbody>\n",
       "</table>\n",
       "<p>577 rows × 7 columns</p>\n",
       "</div>"
      ],
      "text/plain": [
       "           E       Gg       gnx2  J chs lwave J_ID\n",
       "0         20  45.1149     108.88  3   1   [0]    1\n",
       "1    36.9921   47.235     242.21  3   1   [0]    1\n",
       "2    38.1952  44.3338    18.3604  3   1   [0]    1\n",
       "3    59.4953  48.2684    17.5868  3   1   [0]    1\n",
       "4     66.888  45.4843    1.39401  3   1   [0]    1\n",
       "..       ...      ...        ... ..  ..   ...  ...\n",
       "572  4965.44  46.2328    6.81727  3   1   [0]    1\n",
       "573  4971.19  47.7673    15.8811  3   1   [0]    1\n",
       "574  4974.33  45.9754  0.0335965  3   1   [0]    1\n",
       "575  4985.97  45.8049    112.842  3   1   [0]    1\n",
       "576  4999.96  45.4299    99.9216  3   1   [0]    1\n",
       "\n",
       "[577 rows x 7 columns]"
      ]
     },
     "execution_count": 61,
     "metadata": {},
     "output_type": "execute_result"
    }
   ],
   "source": [
    "# resonance_ladder = Ta_pair.sample_resonance_ladder(energy_grid, spin_groups, average_parameters)\n",
    "resonance_ladder = Ta_pair.sample_resonance_ladder(energy_grid)\n",
    "\n",
    "# # look at your resonance ladder\n",
    "resonance_ladder\n",
    "\n",
    "# import json\n",
    "# resonance_ladder.to_csv('test')\n",
    "# test = pd.read_csv('test', index_col=0)\n",
    "# # type(json.loads(test.lwave[0]))\n",
    "# test = test.lwave.apply(json.loads)\n",
    "# resonance_ladder['lwave']=test\n",
    "# type(resonance_ladder.lwave[0])\n"
   ]
  },
  {
   "cell_type": "markdown",
   "metadata": {},
   "source": [
    "### Calculate a theoretical cross section from the resonance ladder\n",
    "\n",
    "The theoretical cross section can be calculated using the syndat code. The output total cross section must be converted to a transmission and stored in a dataframe with keys \"E\" and \"theo_trans\" before it can be passed to the experiment. The experiment object turns a theoretical cross section to a corresponding set of experimental Transmission data.\n",
    "\n",
    "Transmission is related to total cross section in the following way:\n",
    "\n",
    "$T = e^{-n*\\sigma_t} $\n",
    "\n",
    "Where n is the thickness of the target in unites atoms/barn."
   ]
  },
  {
   "cell_type": "code",
   "execution_count": 62,
   "metadata": {},
   "outputs": [
    {
     "name": "stderr",
     "output_type": "stream",
     "text": [
      "No handles with labels found to put in legend.\n"
     ]
    },
    {
     "data": {
      "text/plain": [
       "Text(0.5, 1.0, 'Transmission')"
      ]
     },
     "execution_count": 62,
     "metadata": {},
     "output_type": "execute_result"
    },
    {
     "data": {
      "image/png": "[encoded data removed]",
      "text/plain": [
       "<Figure size 720x288 with 2 Axes>"
      ]
     },
     "metadata": {
      "needs_background": "light"
     },
     "output_type": "display_data"
    }
   ],
   "source": [
    "# SLWB with syndat\n",
    "xs_tot, xs_scat, xs_cap = syndat.scattering_theory.SLBW(exp.energy_domain, Ta_pair, resonance_ladder)\n",
    "\n",
    "# convert to transmisison and put in an appropriate dataframe\n",
    "n = 0.067166 # atoms per barn or atoms/(1e-12*cm^2)\n",
    "trans = np.exp(-n*xs_tot)\n",
    "trans_thick = np.exp(-0.5*xs_tot)\n",
    "theoretical_df = pd.DataFrame({'E':exp.energy_domain, 'theo_trans':trans})\n",
    "\n",
    "fig, ax = subplots(1,2, figsize=(10,4))\n",
    "# ax[0].plot(sammy_calculated.E, sammy_calculated.theo_xs, label='sammy')\n",
    "# ax[0].plot(exp.energy_domain, xs_scat)\n",
    "# ax[0].plot(exp.energy_domain, xs_cap)\n",
    "ax[0].plot(exp.energy_domain, xs_tot)\n",
    "# ax[0].set_xscale('log')\n",
    "# ax[0].set_yscale('log')\n",
    "ax[0].set_title('Total Cross Section')\n",
    "ax[0].legend()\n",
    "\n",
    "ax[1].plot(theoretical_df.E, theoretical_df.theo_trans)\n",
    "# ax[1].plot(theoretical_df.E, trans_thick)\n",
    "# ax[1].plot(sammy_calculated.E, sammy_calculated.theo_trans, label='sammy')\n",
    "ax[1].set_xscale('log')\n",
    "# ax[1].set_ylim([0,1])\n",
    "ax[1].set_title('Transmission')\n",
    "\n",
    "# fig.supxlabel('Energy (eV)')"
   ]
  },
  {
   "cell_type": "markdown",
   "metadata": {},
   "source": [
    "### Testing Resonance Sampling:"
   ]
  },
  {
   "cell_type": "code",
   "execution_count": 63,
   "metadata": {},
   "outputs": [
    {
     "data": {
      "image/png": "[encoded data removed]",
      "text/plain": [
       "<Figure size 432x288 with 1 Axes>"
      ]
     },
     "metadata": {
      "needs_background": "light"
     },
     "output_type": "display_data"
    },
    {
     "data": {
      "image/png": "[encoded data removed]",
      "text/plain": [
       "<Figure size 432x288 with 1 Axes>"
      ]
     },
     "metadata": {
      "needs_background": "light"
     },
     "output_type": "display_data"
    },
    {
     "data": {
      "image/png": "[encoded data removed]",
      "text/plain": [
       "<Figure size 432x288 with 1 Axes>"
      ]
     },
     "metadata": {
      "needs_background": "light"
     },
     "output_type": "display_data"
    }
   ],
   "source": [
    "# print(resonance_ladder)\n",
    "E = resonance_ladder['E'].to_numpy()\n",
    "Gn = resonance_ladder['gnx2'].to_numpy()\n",
    "\n",
    "MLS = 20\n",
    "X = np.linspace(0,max(np.diff(E)),1000)\n",
    "Y = np.pi/(2*MLS**2)*X*np.exp(-np.pi/(4*MLS**2)*X**2)\n",
    "\n",
    "import matplotlib.pyplot as plt\n",
    "\n",
    "plt.figure()\n",
    "plt.hist(np.diff(E), density=True)\n",
    "plt.plot(X, Y, '-k')\n",
    "plt.xlabel('Level Spacing (eV)', fontsize=16)\n",
    "plt.ylabel('Probability Density', fontsize=16)\n",
    "plt.show()\n",
    "\n",
    "LS = np.diff(E)\n",
    "\n",
    "LSRatio = LS[1:]/LS[:-1]\n",
    "X = np.linspace(0,np.max(LSRatio),1000)\n",
    "Y = (27/8)*(X+X**2)/(1+X+X**2)**(5/2)\n",
    "plt.figure()\n",
    "plt.hist(LSRatio, 200, density=True)\n",
    "plt.plot(X, Y, '-k')\n",
    "plt.xlim(0,10)\n",
    "plt.xlabel('Nearest-Level Spacings Ratio', fontsize=16)\n",
    "plt.ylabel('Probability Density', fontsize=16)\n",
    "plt.show()\n",
    "\n",
    "Gnm = np.mean(Gn)\n",
    "X = np.linspace(0,100,1000)\n",
    "from scipy.stats import chi2\n",
    "Y = chi2(1).pdf(X/Gnm)/Gnm\n",
    "plt.figure()\n",
    "plt.hist(Gn, 60, density=True)\n",
    "plt.plot(X, Y, '-k')\n",
    "plt.xlim([0,50])\n",
    "plt.xlabel('Reduced Neutron Width', fontsize=16)\n",
    "plt.ylabel('Probability Density', fontsize=16)\n",
    "plt.show()"
   ]
  },
  {
   "cell_type": "markdown",
   "metadata": {},
   "source": [
    "### Run the experiment & Analyze\n",
    "\n",
    "The synthesized raw count data is then reduced to get an experimentally noisy data set with propagated uncertainty. That is stored in the \"trans\" attribute of the experiment object."
   ]
  },
  {
   "cell_type": "code",
   "execution_count": 64,
   "metadata": {},
   "outputs": [],
   "source": [
    "exp.run(theoretical_df)"
   ]
  },
  {
   "cell_type": "code",
   "execution_count": 65,
   "metadata": {},
   "outputs": [],
   "source": [
    "# figure()\n",
    "# errorbar(exp.odat.E, exp.odat.cps, yerr=exp.odat.dcps, \n",
    "#                                                 fmt='.', color='b', linewidth=1, markersize=3, capsize=2, label='exp_o')\n",
    "# plot(exp.odat.E, exp.redpar.val.ko*exp.Bi+exp.redpar.val.b0o, label='bkg_o')\n",
    "\n",
    "# errorbar(exp.sdat.E, exp.sdat.cps, yerr=exp.sdat.dcps, \n",
    "#                                                 fmt='.', color='orange', linewidth=1, markersize=3, capsize=2, label='exp_s')\n",
    "# plot(exp.sdat.E, exp.redpar.val.ks*exp.Bi+exp.redpar.val.b0s, label='bkg_s')              \n",
    "\n",
    "# legend()\n",
    "# xscale('log'); xlabel('Energy (eV)')\n",
    "# yscale('log'); ylabel('cps')"
   ]
  },
  {
   "cell_type": "code",
   "execution_count": 66,
   "metadata": {},
   "outputs": [
    {
     "data": {
      "text/plain": [
       "<matplotlib.legend.Legend at 0x7fed661d8790>"
      ]
     },
     "execution_count": 66,
     "metadata": {},
     "output_type": "execute_result"
    },
    {
     "data": {
      "image/png": "[encoded data removed]",
      "text/plain": [
       "<Figure size 432x288 with 1 Axes>"
      ]
     },
     "metadata": {
      "needs_background": "light"
     },
     "output_type": "display_data"
    }
   ],
   "source": [
    "figure()\n",
    "# plot(exp.trans.E, exp.trans.exp_trans, '.', ms=1, label='exp')\n",
    "errorbar(exp.trans.E, exp.trans.exp_trans, yerr=exp.trans.exp_trans_unc, zorder=0, \n",
    "                                        fmt='.', color='k', linewidth=1, markersize=3, capsize=2, label='exp')\n",
    "\n",
    "plot(exp.theo.E, exp.theo.theo_trans, '.', ms=1, color='g', label='Sol', zorder=2)\n",
    "\n",
    "ylim([-.1, 1])\n",
    "xscale('log')\n",
    "xlabel('Energy'); ylabel('Transmission')\n",
    "legend()"
   ]
  },
  {
   "cell_type": "markdown",
   "metadata": {},
   "source": [
    "### Output in SAMMY format\n",
    "\n",
    "The data in the experiment object can be accessed directly, or Syndat has a set of utilities to write (and read) SAMMY formatted data files.\n",
    "\n",
    "In this example, the sammy.dat file will contain the experimental data while the sammy.par file will contain the theoretical parameters from which the data was generated."
   ]
  },
  {
   "cell_type": "code",
   "execution_count": 67,
   "metadata": {},
   "outputs": [],
   "source": [
    "# syndat.write_samdat(exp.trans,\"./test_sammy.dat\")\n",
    "# syndat.sammy_interface.write_sampar(resonance_ladder, Ta_pair, False, \"./test_sammy.par\") #, template=\"/Users/noahwalton/Documents/GitHub/nuc_syndat/templates/sammy_template_RM_only.par\")"
   ]
  },
  {
   "cell_type": "code",
   "execution_count": 68,
   "metadata": {},
   "outputs": [
    {
     "ename": "NameError",
     "evalue": "name 'case_file' is not defined",
     "output_type": "error",
     "traceback": [
      "\u001b[0;31m---------------------------------------------------------------------------\u001b[0m",
      "\u001b[0;31mNameError\u001b[0m                                 Traceback (most recent call last)",
      "\u001b[0;32m<ipython-input-68-6d69da916815>\u001b[0m in \u001b[0;36m<module>\u001b[0;34m\u001b[0m\n\u001b[0;32m----> 1\u001b[0;31m \u001b[0mtest\u001b[0m \u001b[0;34m=\u001b[0m \u001b[0mpd\u001b[0m\u001b[0;34m.\u001b[0m\u001b[0mread_hdf\u001b[0m\u001b[0;34m(\u001b[0m\u001b[0mcase_file\u001b[0m\u001b[0;34m,\u001b[0m \u001b[0;34m'sample_2/syndat_pw'\u001b[0m\u001b[0;34m)\u001b[0m\u001b[0;34m\u001b[0m\u001b[0;34m\u001b[0m\u001b[0m\n\u001b[0m\u001b[1;32m      2\u001b[0m \u001b[0mfigure\u001b[0m\u001b[0;34m(\u001b[0m\u001b[0;34m)\u001b[0m\u001b[0;34m\u001b[0m\u001b[0;34m\u001b[0m\u001b[0m\n\u001b[1;32m      3\u001b[0m \u001b[0mplot\u001b[0m\u001b[0;34m(\u001b[0m\u001b[0mtest\u001b[0m\u001b[0;34m.\u001b[0m\u001b[0mE\u001b[0m\u001b[0;34m,\u001b[0m \u001b[0mtest\u001b[0m\u001b[0;34m.\u001b[0m\u001b[0mtheo_trans\u001b[0m\u001b[0;34m)\u001b[0m\u001b[0;34m\u001b[0m\u001b[0;34m\u001b[0m\u001b[0m\n",
      "\u001b[0;31mNameError\u001b[0m: name 'case_file' is not defined"
     ]
    }
   ],
   "source": [
    "test = pd.read_hdf(case_file, 'sample_2/syndat_pw')\n",
    "figure()\n",
    "plot(test.E, test.theo_trans)"
   ]
  },
  {
   "cell_type": "code",
   "execution_count": null,
   "metadata": {},
   "outputs": [],
   "source": []
  },
  {
   "cell_type": "code",
   "execution_count": null,
   "metadata": {},
   "outputs": [],
   "source": []
  }
 ],
 "metadata": {
  "kernelspec": {
   "display_name": "Python 3.8.5 ('base')",
   "language": "python",
   "name": "python3"
  },
  "language_info": {
   "codemirror_mode": {
    "name": "ipython",
    "version": 3
   },
   "file_extension": ".py",
   "mimetype": "text/x-python",
   "name": "python",
   "nbconvert_exporter": "python",
   "pygments_lexer": "ipython3",
   "version": "3.8.5"
  },
  "orig_nbformat": 4,
  "vscode": {
   "interpreter": {
    "hash": "6b1e05b977db2afb962b02c3fca19b9b91f366c5b7e6333f69a37f5ba397db57"
   }
  }
 },
 "nbformat": 4,
 "nbformat_minor": 2
}
