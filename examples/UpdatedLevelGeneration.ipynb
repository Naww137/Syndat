{
 "cells": [
  {
   "cell_type": "markdown",
   "metadata": {},
   "source": [
    "## User Example\n",
    "\n",
    "This notebook outlines the steps needed to use Syndat to generate a set of reduced experimental Transmission data for evaluating total neutron cross sections.\n",
    "\n",
    "The primary user controls of interest are likely:\n",
    "- energy grid structure\n",
    "- total noise amount\n",
    "- the spin groups to be considered\n",
    "- the average parameter values for each of the spin groups\n",
    "\n",
    "These can all be controlled within this script. Just few sections down you can define the **energy grid, spin groups, and average parameters**. The **noise level** is controlled later in the section titles \"Run the experiment and Analyze\"\n"
   ]
  },
  {
   "cell_type": "code",
   "execution_count": 1,
   "metadata": {},
   "outputs": [
    {
     "ename": "ModuleNotFoundError",
     "evalue": "No module named 'brownies'",
     "output_type": "error",
     "traceback": [
      "\u001b[0;31m---------------------------------------------------------------------------\u001b[0m",
      "\u001b[0;31mModuleNotFoundError\u001b[0m                       Traceback (most recent call last)",
      "\u001b[0;32m<ipython-input-1-fd925201e44b>\u001b[0m in \u001b[0;36m<module>\u001b[0;34m\u001b[0m\n\u001b[1;32m      3\u001b[0m \u001b[0;34m\u001b[0m\u001b[0m\n\u001b[1;32m      4\u001b[0m \u001b[0msys\u001b[0m\u001b[0;34m.\u001b[0m\u001b[0mpath\u001b[0m\u001b[0;34m.\u001b[0m\u001b[0minsert\u001b[0m\u001b[0;34m(\u001b[0m\u001b[0;36m0\u001b[0m\u001b[0;34m,\u001b[0m \u001b[0;34m'/Users/colefritsch/ENCORE/syndat/nuc_syndat/fudge/'\u001b[0m\u001b[0;34m)\u001b[0m\u001b[0;34m\u001b[0m\u001b[0;34m\u001b[0m\u001b[0m\n\u001b[0;32m----> 5\u001b[0;31m \u001b[0;32mimport\u001b[0m \u001b[0mbrownies\u001b[0m\u001b[0;34m.\u001b[0m\u001b[0mBNL\u001b[0m\u001b[0;34m.\u001b[0m\u001b[0mrestools\u001b[0m\u001b[0;34m.\u001b[0m\u001b[0mresonance_generator\u001b[0m\u001b[0;34m\u001b[0m\u001b[0;34m\u001b[0m\u001b[0m\n\u001b[0m\u001b[1;32m      6\u001b[0m \u001b[0;34m\u001b[0m\u001b[0m\n\u001b[1;32m      7\u001b[0m \u001b[0;32mif\u001b[0m \u001b[0;34m'/Users/colefritsch/ENCORE/syndat/nuc_syndat'\u001b[0m \u001b[0;32mnot\u001b[0m \u001b[0;32min\u001b[0m \u001b[0msys\u001b[0m\u001b[0;34m.\u001b[0m\u001b[0mpath\u001b[0m\u001b[0;34m:\u001b[0m\u001b[0;34m\u001b[0m\u001b[0;34m\u001b[0m\u001b[0m\n",
      "\u001b[0;31mModuleNotFoundError\u001b[0m: No module named 'brownies'"
     ]
    }
   ],
   "source": [
    "import numpy as np\n",
    "import sys\n",
    "\n",
    "sys.path.insert(0, '/Users/colefritsch/ENCORE/syndat/nuc_syndat/fudge/')\n",
    "import brownies.BNL.restools.resonance_generator\n",
    "\n",
    "if '/Users/colefritsch/ENCORE/syndat/nuc_syndat' not in sys.path:\n",
    "    sys.path.insert(0,'/Users/colefritsch/ENCORE/syndat/nuc_syndat')\n",
    "print(sys.path)\n",
    "\n",
    "import syndat\n",
    "import pandas as pd\n",
    "import os\n",
    "from matplotlib.pyplot import *\n"
   ]
  },
  {
   "cell_type": "code",
   "execution_count": null,
   "metadata": {},
   "outputs": [],
   "source": [
    "# %matplotlib widget"
   ]
  },
  {
   "cell_type": "markdown",
   "metadata": {},
   "source": [
    "### Define the particle-pair of interest\n",
    "\n",
    "The particle pair class in syndat characterizes the reaction taking place. \n",
    "\n",
    "The method \"map_quantum_numbers\" will calculate (and print if print_out=True) the open reaction channels for given a maximum number of orbital angular momenta to consider. This can be used to visualize the spin groups that may be present in a cross section."
   ]
  },
  {
   "cell_type": "code",
   "execution_count": null,
   "metadata": {},
   "outputs": [
    {
     "name": "stdout",
     "output_type": "stream",
     "text": [
      "\n",
      "The following arrays describe all possible spin groups for a each parity.\n",
      "    The data is given as a tuple where the first value is the integer \n",
      "    or half integer total quantum spin J and the second value is the \n",
      "    number of entrance channels for that spin group. \n",
      "    * See the dictionary \"possible_Jpi\" for a nested packing structure.\n",
      "\n",
      "Spin group data for all parity\n",
      "(Jpi, #Chs, l-waves)\n",
      "(-5.0, 1, [1.0])\n",
      "(-4.0, 2, [1.0, 1.0])\n",
      "(-3.0, 2, [1.0, 1.0])\n",
      "(-2.0, 1, [1.0])\n",
      "(3.0, 1, [0.0])\n",
      "(4.0, 1, [0.0])\n"
     ]
    }
   ],
   "source": [
    "ac = 0.81271    # scattering radius in 1e-12 cm \n",
    "M = 180.948030  # amu of target nucleus\n",
    "m = 1           # amu of incident neutron\n",
    "I = 3.5         # intrinsic spin, positive parity\n",
    "i = 0.5         # intrinsic spin, positive parity\n",
    "l_max = 1       # highest order l-wave to consider\n",
    "\n",
    "Ta_pair = syndat.particle_pair(ac, M, m, I, i, l_max)\n",
    "\n",
    "Ta_pair.map_quantum_numbers(True)"
   ]
  },
  {
   "cell_type": "markdown",
   "metadata": {},
   "source": [
    "## Define an energy grid and average resonance parameters\n",
    "\n",
    "Here the user defines the primary parameters for the cross section they want to use. This includes:\n",
    "- energy grid structure\n",
    "- spin groups\n",
    "- average parameter values for those spin groups\n",
    "\n",
    "The spin group data can be re-defined to focus on a specific set of spin groups, or the \"J\" attribute of the particle_pair defined above can be used directly if you want to include all spin groups up to a given order of waveform.\n",
    "\n",
    "* Note:\n",
    "    The noise level is controlled with the trig parameter which is analogous to the time of measurment (more time better statistics). This is an input to the experiment class and can be edited a few code sections below.\n",
    "\n",
    "To generate an energy grid that is similar to what would be seen in an experiment, you must start with time-of-flight. An experiment produces counts that are linearly spaced in time-of-flight which is related to energy by:\n",
    "\n",
    "$ KE = \\frac{1}{2}mv^2 = \\frac{1}{2}m (\\frac{FP}{ToF})^2 $ where FP is the distance or flight path and ToF is time of flight. The relativistic form of this equation can be used, however, it does not make m uch difference in this energy regime. \n",
    "\n",
    "Generally the resolution is on the order of nanoseconds, however, the experimentalists will increase this bin size, improving the statistics in a given bin at the loss of some resolution. This is a non-mechanistic process that results in a couple of different bin sizes throughout the ToF spectrum. A standard bin size in the RRR for Ta181 with a flight path of 35 m is on the order of 20-100ns\n",
    "\n",
    "* Note:\n",
    "    Defining a linear energy grid will result in a wild binning stucture in tof. Consider defining a tof grid instead. In practice, the tof grid has a handful (5 or so) different bin widths and a constant bin width between each point of compresssion. This is due to the artisinal nature of this process, a complicated binning stucture is less justifiable, difficult to store in EXFOR, and requires the use of a complicated resolution broadening function."
   ]
  },
  {
   "cell_type": "code",
   "execution_count": null,
   "metadata": {},
   "outputs": [],
   "source": [
    "# # define energy grid in eV - note that this approach creates a crazy tof bin width structure\n",
    "# energy_grid = np.linspace(1,100,1000)\n",
    "\n",
    "# create a linear tof grid\n",
    "E_min_max = [10, 100000]\n",
    "tof_min_max = syndat.exp_effects.e_to_t(np.array(E_min_max),35.185, True)\n",
    "bin_width = 0.1e-6\n",
    "tof_grid = np.arange(min(tof_min_max), max(tof_min_max), bin_width)\n",
    "energy_grid = syndat.exp_effects.t_to_e(tof_grid,35.185,True)"
   ]
  },
  {
   "cell_type": "code",
   "execution_count": null,
   "metadata": {},
   "outputs": [],
   "source": [
    "\n",
    "\n",
    "# spin_groups variable here is equivalent to Ta_pair.J\n",
    "# spin_groups = [ (3.0,1,[0]), (4.0,1,[0]), (-4.0,2,[1.0, 1.0])]\n",
    "spin_groups = [ (3.0,1,[0])]\n",
    "\n",
    "# an alternative option would be to give Ta_pair.J, as long as you give an average parameter dataframe with corresponding indices\n",
    "# spin_groups = Ta_pair.J\n",
    "\n",
    "average_parameters = pd.DataFrame({ 'dE'    :   {'3.0':20.0, '4.0':15.0, '-4.0':15.0},\n",
    "                                    'Gg'    :   {'3.0':80.0, '4.0':55.0, '-4.0':55.0},\n",
    "                                    'gn2'    :   {'3.0':50.0, '4.0':10.0, '-4.0':10.0}  })\n"
   ]
  },
  {
   "cell_type": "markdown",
   "metadata": {},
   "source": [
    "### Sample a ladder of resonances parameters using Syndat"
   ]
  },
  {
   "cell_type": "code",
   "execution_count": null,
   "metadata": {},
   "outputs": [
    {
     "name": "stdout",
     "output_type": "stream",
     "text": [
      "setting numLevels to 4937\n",
      "WARNING: non-zero offset is discouraged when using GOE realizations\n",
      "Hello!\n"
     ]
    }
   ],
   "source": [
    "\n",
    "resonance_ladder = Ta_pair.sample_resonance_ladder(energy_grid, spin_groups, average_parameters)\n",
    "\n",
    "# # look at your resonance ladder\n",
    "# resonance_ladder"
   ]
  },
  {
   "cell_type": "markdown",
   "metadata": {},
   "source": [
    "### Testing Energy Distribution:"
   ]
  },
  {
   "cell_type": "code",
   "execution_count": null,
   "metadata": {},
   "outputs": [
    {
     "data": {
      "image/png": "[encoded data removed]",
      "text/plain": [
       "<Figure size 432x288 with 1 Axes>"
      ]
     },
     "metadata": {
      "needs_background": "light"
     },
     "output_type": "display_data"
    },
    {
     "data": {
      "image/png": "[encoded data removed]",
      "text/plain": [
       "<Figure size 432x288 with 1 Axes>"
      ]
     },
     "metadata": {
      "needs_background": "light"
     },
     "output_type": "display_data"
    }
   ],
   "source": [
    "E = resonance_ladder['E'].to_numpy()\n",
    "# print(E)\n",
    "\n",
    "MLS = 20\n",
    "X = np.linspace(0,max(np.diff(E)),1000)\n",
    "Y = np.pi/(2*MLS**2)*X*np.exp(-np.pi/(4*MLS**2)*X**2)\n",
    "\n",
    "import matplotlib.pyplot as plt\n",
    "\n",
    "plt.figure()\n",
    "plt.hist(np.diff(E), density=True)\n",
    "plt.plot(X, Y, '-k')\n",
    "plt.show()\n",
    "\n",
    "LS = np.diff(E)\n",
    "\n",
    "LSRatio = LS[1:]/LS[:-1]\n",
    "X = np.linspace(0,np.max(LSRatio),1000)\n",
    "Y = (27/8)*(X+X**2)/(1+X+X**2)**(5/2)\n",
    "plt.figure()\n",
    "plt.hist(LSRatio, 200, density=True)\n",
    "plt.plot(X, Y, '-k')\n",
    "plt.xlim(0,10)\n",
    "plt.show()\n",
    "\n",
    "# # print(resonance_ladder)\n",
    "# E = resonance_ladder['E'].to_numpy()\n",
    "# Gn = resonance_ladder['gnx2'].to_numpy()\n",
    "\n",
    "# MLS = 20\n",
    "# X = np.linspace(0,max(np.diff(E)),1000)\n",
    "# Y = np.pi/(2*MLS**2)*X*np.exp(-np.pi/(4*MLS**2)*X**2)\n",
    "\n",
    "# import matplotlib.pyplot as plt\n",
    "\n",
    "# plt.figure()\n",
    "# plt.hist(np.diff(E), density=True)\n",
    "# plt.plot(X, Y, '-k')\n",
    "# plt.xlabel('Level Spacing (eV)', fontsize=16)\n",
    "# plt.ylabel('Probability Density', fontsize=16)\n",
    "# plt.show()\n",
    "\n",
    "# LS = np.diff(E)\n",
    "\n",
    "# LSRatio = LS[1:]/LS[:-1]\n",
    "# X = np.linspace(0,np.max(LSRatio),1000)\n",
    "# Y = (27/8)*(X+X**2)/(1+X+X**2)**(5/2)\n",
    "# plt.figure()\n",
    "# plt.hist(LSRatio, 200, density=True)\n",
    "# plt.plot(X, Y, '-k')\n",
    "# plt.xlim(0,10)\n",
    "# plt.xlabel('Nearest-Level Spacings Ratio', fontsize=16)\n",
    "# plt.ylabel('Probability Density', fontsize=16)\n",
    "# plt.show()\n",
    "\n",
    "# Gnm = np.mean(Gn)\n",
    "# X = np.linspace(0,100,1000)\n",
    "# from scipy.stats import chi2\n",
    "# Y = chi2(1).pdf(X/Gnm)/Gnm\n",
    "# plt.figure()\n",
    "# plt.hist(Gn, 60, density=True)\n",
    "# plt.plot(X, Y, '-k')\n",
    "# plt.xlim([0,50])\n",
    "# plt.xlabel('Reduced Neutron Width', fontsize=16)\n",
    "# plt.ylabel('Probability Density', fontsize=16)\n",
    "# plt.show()"
   ]
  },
  {
   "cell_type": "markdown",
   "metadata": {},
   "source": [
    "### Calculate a theoretical cross section from the resonance ladder\n",
    "\n",
    "The theoretical cross section can be calculated using the syndat code. The output total cross section must be converted to a transmission and stored in a dataframe with keys \"E\" and \"theo_trans\" before it can be passed to the experiment. The experiment object turns a theoretical cross section to a corresponding set of experimental Transmission data.\n",
    "\n",
    "Transmission is related to total cross section in the following way:\n",
    "\n",
    "$T = e^{-n*\\sigma_t} $\n",
    "\n",
    "Where n is the thickness of the target in unites atoms/barn."
   ]
  },
  {
   "cell_type": "code",
   "execution_count": null,
   "metadata": {},
   "outputs": [
    {
     "name": "stderr",
     "output_type": "stream",
     "text": [
      "No handles with labels found to put in legend.\n"
     ]
    },
    {
     "ename": "AttributeError",
     "evalue": "'Figure' object has no attribute 'supxlabel'",
     "output_type": "error",
     "traceback": [
      "\u001b[0;31m---------------------------------------------------------------------------\u001b[0m",
      "\u001b[0;31mAttributeError\u001b[0m                            Traceback (most recent call last)",
      "\u001b[0;32m<ipython-input-41-690ba3980bba>\u001b[0m in \u001b[0;36m<module>\u001b[0;34m\u001b[0m\n\u001b[1;32m     23\u001b[0m \u001b[0max\u001b[0m\u001b[0;34m[\u001b[0m\u001b[0;36m1\u001b[0m\u001b[0;34m]\u001b[0m\u001b[0;34m.\u001b[0m\u001b[0mset_title\u001b[0m\u001b[0;34m(\u001b[0m\u001b[0;34m'Transmission'\u001b[0m\u001b[0;34m)\u001b[0m\u001b[0;34m\u001b[0m\u001b[0;34m\u001b[0m\u001b[0m\n\u001b[1;32m     24\u001b[0m \u001b[0;34m\u001b[0m\u001b[0m\n\u001b[0;32m---> 25\u001b[0;31m \u001b[0mfig\u001b[0m\u001b[0;34m.\u001b[0m\u001b[0msupxlabel\u001b[0m\u001b[0;34m(\u001b[0m\u001b[0;34m'Energy (eV)'\u001b[0m\u001b[0;34m)\u001b[0m\u001b[0;34m\u001b[0m\u001b[0;34m\u001b[0m\u001b[0m\n\u001b[0m",
      "\u001b[0;31mAttributeError\u001b[0m: 'Figure' object has no attribute 'supxlabel'"
     ]
    },
    {
     "data": {
      "image/png": "[encoded data removed]",
      "text/plain": [
       "<Figure size 720x288 with 2 Axes>"
      ]
     },
     "metadata": {
      "needs_background": "light"
     },
     "output_type": "display_data"
    }
   ],
   "source": [
    "# SLWB with syndat\n",
    "xs_tot, xs_scat, xs_cap = syndat.scattering_theory.SLBW(energy_grid, Ta_pair, resonance_ladder)\n",
    "\n",
    "# convert to transmisison and put in an appropriate dataframe\n",
    "n = 0.067166 # atoms per barn or atoms/(1e-12*cm^2)\n",
    "trans = np.exp(-n*xs_tot)\n",
    "theoretical_df = pd.DataFrame({'E':energy_grid, 'theo_trans':trans})\n",
    "\n",
    "fig, ax = subplots(1,2, figsize=(10,4))\n",
    "# ax[0].plot(sammy_calculated.E, sammy_calculated.theo_xs, label='sammy')\n",
    "# ax[0].plot(energy_grid, xs_scat)\n",
    "# ax[0].plot(energy_grid, xs_cap)\n",
    "ax[0].plot(energy_grid, xs_tot)\n",
    "ax[0].set_xscale('log')\n",
    "ax[0].set_yscale('log')\n",
    "ax[0].set_title('Total Cross Section')\n",
    "ax[0].legend()\n",
    "\n",
    "ax[1].plot(theoretical_df.E, theoretical_df.theo_trans)\n",
    "# ax[1].plot(sammy_calculated.E, sammy_calculated.theo_trans, label='sammy')\n",
    "ax[1].set_xscale('log')\n",
    "# ax[1].set_ylim([0,1])\n",
    "ax[1].set_title('Transmission')\n",
    "\n",
    "fig.supxlabel('Energy (eV)')"
   ]
  },
  {
   "cell_type": "markdown",
   "metadata": {},
   "source": [
    "### Run the experiment & Analyze\n",
    "\n",
    "The Syndat experiment object has a number of methods that generate raw count data from the theoretical cross section through a novel method developed by Walton, et al. The synthesized raw count data is then reduced to get an experimentally noise data set with propagated uncertainty. This is stored in the \"trans\" attribute of the experiment object.\n",
    "\n",
    "A set of default experimental parameters is already loaded into the experiment class, however, if the user wants to re-define any this can be done by passing in a new_parameteres dictionary. The format for this is shown below. The example is that of the \"trigs\" parameter. This corresponds to the number of LINAC triggers the sample in data set was exposed to, which is proportional to the length of the measurement. Therefore, this parameter will control the noise level seen in the data.\n",
    "\n",
    "The user has the option to input an open count spectra. This is an optional input and if None is given, Syndat will aproximate the open count rate spectra as an exponential. The calculate covaraince option, if set to false, will only calculate the diagonal of the covariance matrix."
   ]
  },
  {
   "cell_type": "code",
   "execution_count": null,
   "metadata": {},
   "outputs": [],
   "source": [
    "options = { 'Perform Experiment':True,\n",
    "            'Add Noise': True,\n",
    "            'Calculate Covariance': True}\n",
    "\n",
    "new_parameters = {'trigs': {'val':18476117,    'unc'   :   0}}\n",
    "\n",
    "exp = syndat.experiment(theoretical_df, \n",
    "                        input_options=options, \n",
    "                        experiment_parameters=new_parameters)\n",
    "                        "
   ]
  },
  {
   "cell_type": "code",
   "execution_count": null,
   "metadata": {},
   "outputs": [],
   "source": [
    "# figure()\n",
    "# errorbar(exp.odat.E, exp.odat.cps, yerr=exp.odat.dcps, \n",
    "#                                                 fmt='.', color='b', linewidth=1, markersize=3, capsize=2, label='exp_o')\n",
    "# plot(exp.odat.E, exp.redpar.val.ko*exp.Bi+exp.redpar.val.b0o, label='bkg_o')\n",
    "\n",
    "# errorbar(exp.sdat.E, exp.sdat.cps, yerr=exp.sdat.dcps, \n",
    "#                                                 fmt='.', color='orange', linewidth=1, markersize=3, capsize=2, label='exp_s')\n",
    "# plot(exp.sdat.E, exp.redpar.val.ks*exp.Bi+exp.redpar.val.b0s, label='bkg_s')              \n",
    "\n",
    "# legend()\n",
    "# xscale('log'); xlabel('Energy (eV)')\n",
    "# yscale('log'); ylabel('cps')"
   ]
  },
  {
   "cell_type": "code",
   "execution_count": null,
   "metadata": {},
   "outputs": [
    {
     "data": {
      "text/plain": [
       "<matplotlib.legend.Legend at 0x7fcb66c2aa30>"
      ]
     },
     "execution_count": 107,
     "metadata": {},
     "output_type": "execute_result"
    },
    {
     "data": {
      "image/png": "[encoded data removed]",
      "text/plain": [
       "<Figure size 432x288 with 1 Axes>"
      ]
     },
     "metadata": {
      "needs_background": "light"
     },
     "output_type": "display_data"
    }
   ],
   "source": [
    "figure()\n",
    "# plot(exp.trans.E, exp.trans.exp_trans, '.', ms=1, label='exp')\n",
    "errorbar(exp.trans.E, exp.trans.exp_trans, yerr=exp.trans.exp_trans_unc, zorder=0, \n",
    "                                        fmt='.', color='k', linewidth=1, markersize=3, capsize=2, label='exp')\n",
    "\n",
    "plot(exp.trans.E, exp.trans.theo_trans, color='g', lw=1, label='Sol', zorder=2)\n",
    "\n",
    "ylim([-.1, 1])\n",
    "xscale('log')\n",
    "xlabel('Energy'); ylabel('Transmission')\n",
    "legend()"
   ]
  },
  {
   "cell_type": "markdown",
   "metadata": {},
   "source": [
    "### Output in SAMMY format\n",
    "\n",
    "The data in the experiment object can be accessed directly, or Syndat has a set of utilities to write (and read) SAMMY formatted data files.\n",
    "\n",
    "In this example, the sammy.dat file will contain the experimental data while the sammy.par file will contain the theoretical parameters from which the data was generated."
   ]
  },
  {
   "cell_type": "code",
   "execution_count": null,
   "metadata": {},
   "outputs": [],
   "source": [
    "syndat.write_samdat(exp.trans,\"./test_sammy.dat\")\n",
    "syndat.sammy_interface.write_sampar(resonance_ladder, Ta_pair, False, \"./test_sammy.par\") #, template=\"/Users/noahwalton/Documents/GitHub/nuc_syndat/templates/sammy_template_RM_only.par\")"
   ]
  },
  {
   "cell_type": "markdown",
   "metadata": {},
   "source": [
    "## Generating many sets of data"
   ]
  },
  {
   "cell_type": "code",
   "execution_count": null,
   "metadata": {},
   "outputs": [],
   "source": [
    "for i in range(3):\n",
    "    exp2 = syndat.experiment(theoretical_df, \n",
    "                        input_options=options, \n",
    "                        experiment_parameters=new_parameters)\n",
    "    # syndat.write_samdat(exp.trans,f\"./test_sammy{i}.dat\")\n",
    "    # syndat.sammy_interface.write_sampar(resonance_ladder, Ta_pair, False, f\"./test_sammy{i}.par\") \n",
    "    print(f'{i}: {exp2.trans[\"theo_trans\"].min()} : {exp2.trans[\"theo_trans\"].max()}')\n",
    "            "
   ]
  },
  {
   "cell_type": "code",
   "execution_count": null,
   "metadata": {},
   "outputs": [],
   "source": []
  }
 ],
 "metadata": {
  "kernelspec": {
   "display_name": "Python 3.8.5 ('base')",
   "language": "python",
   "name": "python3"
  },
  "language_info": {
   "codemirror_mode": {
    "name": "ipython",
    "version": 3
   },
   "file_extension": ".py",
   "mimetype": "text/x-python",
   "name": "python",
   "nbconvert_exporter": "python",
   "pygments_lexer": "ipython3",
   "version": "3.8.5"
  },
  "orig_nbformat": 4,
  "vscode": {
   "interpreter": {
    "hash": "6b1e05b977db2afb962b02c3fca19b9b91f366c5b7e6333f69a37f5ba397db57"
   }
  }
 },
 "nbformat": 4,
 "nbformat_minor": 2
}
