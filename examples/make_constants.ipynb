{
 "cells": [
  {
   "cell_type": "markdown",
   "metadata": {},
   "source": [
    "## This notebook outlines the following approximations made in the Syndat code:\n",
    "\n",
    "    * Approximating the open count rate with smooth continuous function\n"
   ]
  },
  {
   "cell_type": "markdown",
   "metadata": {},
   "source": []
  },
  {
   "cell_type": "markdown",
   "metadata": {},
   "source": []
  },
  {
   "cell_type": "code",
   "execution_count": 1,
   "metadata": {},
   "outputs": [],
   "source": [
    "import numpy as np\n",
    "import pandas as pd\n",
    "from matplotlib.pyplot import *\n",
    "import syndat\n",
    "import nuctools\n",
    "import os"
   ]
  },
  {
   "cell_type": "markdown",
   "metadata": {},
   "source": [
    "Above we import all necessary python packages as well as the syndat package.\n",
    "\n",
    "Note below that if you are running jupyter notebook not in VSCode, the matplotlib magic should be \"%matplotlib notebook\"."
   ]
  },
  {
   "cell_type": "code",
   "execution_count": 2,
   "metadata": {},
   "outputs": [],
   "source": [
    "%matplotlib widget"
   ]
  },
  {
   "cell_type": "markdown",
   "metadata": {},
   "source": [
    "### Run an initial experiment to import all the appropriate data"
   ]
  },
  {
   "cell_type": "code",
   "execution_count": 3,
   "metadata": {},
   "outputs": [
    {
     "ename": "ValueError",
     "evalue": "Theoretical data passed to generation class is not of type DataFrame.",
     "output_type": "error",
     "traceback": [
      "\u001b[0;31m---------------------------------------------------------------------------\u001b[0m",
      "\u001b[0;31mValueError\u001b[0m                                Traceback (most recent call last)",
      "\u001b[0;32m/var/folders/s9/xdv2y9hs0y7g3zzscy35rz4c0000gn/T/ipykernel_23869/791228073.py\u001b[0m in \u001b[0;36m<cell line: 4>\u001b[0;34m()\u001b[0m\n\u001b[1;32m      2\u001b[0m \u001b[0msammy_xs\u001b[0m \u001b[0;34m=\u001b[0m \u001b[0;34m\"/Users/noahwalton/research_local/resonance_fitting/synthetic_data/Ta181/JEFF_eval/SAMMY.LST\"\u001b[0m\u001b[0;34m\u001b[0m\u001b[0;34m\u001b[0m\u001b[0m\n\u001b[1;32m      3\u001b[0m \u001b[0;34m\u001b[0m\u001b[0m\n\u001b[0;32m----> 4\u001b[0;31m \u001b[0mexperiment\u001b[0m \u001b[0;34m=\u001b[0m \u001b[0msyndat\u001b[0m\u001b[0;34m.\u001b[0m\u001b[0mexperiment\u001b[0m\u001b[0;34m(\u001b[0m\u001b[0;32mTrue\u001b[0m\u001b[0;34m,\u001b[0m \u001b[0;32mTrue\u001b[0m\u001b[0;34m,\u001b[0m \u001b[0;32mTrue\u001b[0m\u001b[0;34m,\u001b[0m \u001b[0mopendata\u001b[0m\u001b[0;34m,\u001b[0m \u001b[0msammy_xs\u001b[0m\u001b[0;34m)\u001b[0m\u001b[0;34m\u001b[0m\u001b[0;34m\u001b[0m\u001b[0m\n\u001b[0m",
      "\u001b[0;32m~/Documents/GitHub/nuc_syndat/syndat/experiment.py\u001b[0m in \u001b[0;36m__init__\u001b[0;34m(self, perform_methods, default_exp, add_noise, open_dataframe, theoretical_data, E_limits)\u001b[0m\n\u001b[1;32m     65\u001b[0m         \u001b[0;32mif\u001b[0m \u001b[0mperform_methods\u001b[0m\u001b[0;34m:\u001b[0m\u001b[0;34m\u001b[0m\u001b[0;34m\u001b[0m\u001b[0m\n\u001b[1;32m     66\u001b[0m             \u001b[0;31m# import open data from jesse's experiment\u001b[0m\u001b[0;34m\u001b[0m\u001b[0;34m\u001b[0m\u001b[0m\n\u001b[0;32m---> 67\u001b[0;31m             \u001b[0mself\u001b[0m\u001b[0;34m.\u001b[0m\u001b[0mget_odat\u001b[0m\u001b[0;34m(\u001b[0m\u001b[0mopen_dataframe\u001b[0m\u001b[0;34m)\u001b[0m\u001b[0;34m\u001b[0m\u001b[0;34m\u001b[0m\u001b[0m\n\u001b[0m\u001b[1;32m     68\u001b[0m             \u001b[0;31m# vectorize the background function from jesse's experiment\u001b[0m\u001b[0;34m\u001b[0m\u001b[0;34m\u001b[0m\u001b[0m\n\u001b[1;32m     69\u001b[0m             \u001b[0mself\u001b[0m\u001b[0;34m.\u001b[0m\u001b[0mget_bkg\u001b[0m\u001b[0;34m(\u001b[0m\u001b[0;34m)\u001b[0m\u001b[0;34m\u001b[0m\u001b[0;34m\u001b[0m\u001b[0m\n",
      "\u001b[0;32m~/Documents/GitHub/nuc_syndat/syndat/experiment.py\u001b[0m in \u001b[0;36mget_odat\u001b[0;34m(self, open_dataframe)\u001b[0m\n\u001b[1;32m     88\u001b[0m                 \u001b[0;32mraise\u001b[0m \u001b[0mValueError\u001b[0m\u001b[0;34m(\u001b[0m\u001b[0;34m\"Column name 'dc' not in open count DataFrame passed to experiment class.\"\u001b[0m\u001b[0;34m)\u001b[0m\u001b[0;34m\u001b[0m\u001b[0;34m\u001b[0m\u001b[0m\n\u001b[1;32m     89\u001b[0m         \u001b[0;32melse\u001b[0m\u001b[0;34m:\u001b[0m\u001b[0;34m\u001b[0m\u001b[0;34m\u001b[0m\u001b[0m\n\u001b[0;32m---> 90\u001b[0;31m             \u001b[0;32mraise\u001b[0m \u001b[0mValueError\u001b[0m\u001b[0;34m(\u001b[0m\u001b[0;34m\"Theoretical data passed to generation class is not of type DataFrame.\"\u001b[0m\u001b[0;34m)\u001b[0m\u001b[0;34m\u001b[0m\u001b[0;34m\u001b[0m\u001b[0m\n\u001b[0m\u001b[1;32m     91\u001b[0m \u001b[0;34m\u001b[0m\u001b[0m\n\u001b[1;32m     92\u001b[0m         \u001b[0;31m# -------------------------------------------\u001b[0m\u001b[0;34m\u001b[0m\u001b[0;34m\u001b[0m\u001b[0m\n",
      "\u001b[0;31mValueError\u001b[0m: Theoretical data passed to generation class is not of type DataFrame."
     ]
    }
   ],
   "source": [
    "opendata = \"/Users/noahwalton/research_local/resonance_fitting/synthetic_data/Ta181/rpi-open-ta181.csv\"\n",
    "sammy_xs = \"/Users/noahwalton/research_local/resonance_fitting/synthetic_data/Ta181/JEFF_eval/SAMMY.LST\"\n",
    "\n",
    "experiment = syndat.experiment(True, True, True, opendata, sammy_xs)"
   ]
  },
  {
   "cell_type": "markdown",
   "metadata": {},
   "source": [
    "## Approximate the RRR open count rate\n",
    "\n",
    "The following few sections of code, the open count rate spectrum from Brown, et al. is approximated with an exponential function. That function can then be used with the fitted parameters as a flexible approximation to the open count spectra that will allow for:\n",
    "1. variable points in energy\n",
    "2. no fixed notches messing with the transmission at certain energies\n",
    "3. a flexible bin width\n",
    "\n",
    "This approximation generates a smooth open count rate, therefore, before it can be used to generate data noise must be added in the following manner:\n",
    "\n",
    "1. convert count rate to raw counts using a bin width and a number of triggers\n",
    "2. Add poisson noise to the raw counts (ignoring monitor nornalization for this b/c the number of counts are large enough)\n",
    "3. convert the noisy count data back to a count rate for use in the syndat methodology\n"
   ]
  },
  {
   "cell_type": "code",
   "execution_count": 4,
   "metadata": {},
   "outputs": [
    {
     "ename": "NameError",
     "evalue": "name 'experiment' is not defined",
     "output_type": "error",
     "traceback": [
      "\u001b[0;31m---------------------------------------------------------------------------\u001b[0m",
      "\u001b[0;31mNameError\u001b[0m                                 Traceback (most recent call last)",
      "\u001b[0;32m/var/folders/s9/xdv2y9hs0y7g3zzscy35rz4c0000gn/T/ipykernel_23869/3601339112.py\u001b[0m in \u001b[0;36m<cell line: 4>\u001b[0;34m()\u001b[0m\n\u001b[1;32m      2\u001b[0m \u001b[0;34m\u001b[0m\u001b[0m\n\u001b[1;32m      3\u001b[0m \u001b[0;31m# filter the RRR domain - split into two domains to get a better fit\u001b[0m\u001b[0;34m\u001b[0m\u001b[0;34m\u001b[0m\u001b[0m\n\u001b[0;32m----> 4\u001b[0;31m \u001b[0mRRR_domain\u001b[0m \u001b[0;34m=\u001b[0m \u001b[0mexperiment\u001b[0m\u001b[0;34m.\u001b[0m\u001b[0modat\u001b[0m\u001b[0;34m[\u001b[0m\u001b[0;34m(\u001b[0m\u001b[0mexperiment\u001b[0m\u001b[0;34m.\u001b[0m\u001b[0modat\u001b[0m\u001b[0;34m.\u001b[0m\u001b[0mtof\u001b[0m\u001b[0;34m>\u001b[0m\u001b[0;36m18\u001b[0m\u001b[0;34m)\u001b[0m\u001b[0;34m&\u001b[0m\u001b[0;34m(\u001b[0m\u001b[0mexperiment\u001b[0m\u001b[0;34m.\u001b[0m\u001b[0modat\u001b[0m\u001b[0;34m.\u001b[0m\u001b[0mtof\u001b[0m\u001b[0;34m<\u001b[0m\u001b[0;36m1600\u001b[0m\u001b[0;34m)\u001b[0m\u001b[0;34m]\u001b[0m\u001b[0;34m.\u001b[0m\u001b[0mreset_index\u001b[0m\u001b[0;34m(\u001b[0m\u001b[0mdrop\u001b[0m\u001b[0;34m=\u001b[0m\u001b[0;32mTrue\u001b[0m\u001b[0;34m)\u001b[0m\u001b[0;34m\u001b[0m\u001b[0;34m\u001b[0m\u001b[0m\n\u001b[0m\u001b[1;32m      5\u001b[0m \u001b[0mfit_domain\u001b[0m \u001b[0;34m=\u001b[0m \u001b[0mexperiment\u001b[0m\u001b[0;34m.\u001b[0m\u001b[0modat\u001b[0m\u001b[0;34m[\u001b[0m\u001b[0;34m(\u001b[0m\u001b[0mexperiment\u001b[0m\u001b[0;34m.\u001b[0m\u001b[0modat\u001b[0m\u001b[0;34m.\u001b[0m\u001b[0mtof\u001b[0m\u001b[0;34m>\u001b[0m\u001b[0;36m275\u001b[0m\u001b[0;34m)\u001b[0m\u001b[0;34m&\u001b[0m\u001b[0;34m(\u001b[0m\u001b[0mexperiment\u001b[0m\u001b[0;34m.\u001b[0m\u001b[0modat\u001b[0m\u001b[0;34m.\u001b[0m\u001b[0mtof\u001b[0m\u001b[0;34m<\u001b[0m\u001b[0;36m1600\u001b[0m\u001b[0;34m)\u001b[0m\u001b[0;34m]\u001b[0m\u001b[0;34m.\u001b[0m\u001b[0mreset_index\u001b[0m\u001b[0;34m(\u001b[0m\u001b[0mdrop\u001b[0m\u001b[0;34m=\u001b[0m\u001b[0;32mTrue\u001b[0m\u001b[0;34m)\u001b[0m\u001b[0;34m\u001b[0m\u001b[0;34m\u001b[0m\u001b[0m\n\u001b[1;32m      6\u001b[0m \u001b[0;34m\u001b[0m\u001b[0m\n",
      "\u001b[0;31mNameError\u001b[0m: name 'experiment' is not defined"
     ]
    }
   ],
   "source": [
    "from scipy.optimize import curve_fit\n",
    "\n",
    "# filter the RRR domain - split into two domains to get a better fit\n",
    "RRR_domain = experiment.odat[(experiment.odat.tof>18)&(experiment.odat.tof<1600)].reset_index(drop=True)\n",
    "fit_domain = experiment.odat[(experiment.odat.tof>275)&(experiment.odat.tof<1600)].reset_index(drop=True)\n",
    "\n",
    "def func(x, a, b, c):\n",
    "    return (a * np.exp(b * x*1e-6) + c) \n",
    "\n",
    "popt, pcov = curve_fit(func, fit_domain.tof, fit_domain.cps)\n",
    "smoothed_cps = func(RRR_domain.tof, *popt)\n",
    "smoothed_cts = smoothed_cps*RRR_domain.bw*experiment.redpar.val.trig \n",
    "noisy_cts = syndat.exp_effects.pois_noise(smoothed_cts)\n",
    "noisy_cps = noisy_cts/RRR_domain.bw/experiment.redpar.val.trig \n",
    "\n",
    "figure()\n",
    "title('Open Data From RPI')\n",
    "plot(RRR_domain.tof, RRR_domain.cps, '.', ms=1, label=\"real\")\n",
    "plot(RRR_domain.tof, noisy_cps, label=\"synthetic\")\n",
    "plot(RRR_domain.tof, smoothed_cps, label=\"smooth_function\")\n",
    "xscale('log'); \n",
    "yscale('log')\n",
    "legend()\n",
    "\n",
    "print(popt)"
   ]
  },
  {
   "cell_type": "code",
   "execution_count": null,
   "metadata": {},
   "outputs": [
    {
     "data": {
      "text/plain": [
       "0        5.313697e+07\n",
       "1        4.659825e+06\n",
       "2        1.618690e+06\n",
       "3        8.140801e+05\n",
       "4        4.886650e+05\n",
       "             ...     \n",
       "16041    1.399729e+00\n",
       "16042    1.333885e+00\n",
       "16043    1.272579e+00\n",
       "16044    1.215406e+00\n",
       "16045    1.162000e+00\n",
       "Name: tof, Length: 16046, dtype: float64"
      ]
     },
     "execution_count": 6,
     "metadata": {},
     "output_type": "execute_result"
    }
   ],
   "source": [
    "\n",
    "E = syndat.exp_effects.t_to_e((experiment.odat.tof-experiment.redpar.val.t0)*1e-6, experiment.redpar.val.tof_dist, True)\n",
    "tof = syndat.exp_effects.e_to_t(E,experiment.redpar.val.tof_dist, True)*1e6+experiment.redpar.val.t0\n",
    "E"
   ]
  },
  {
   "cell_type": "code",
   "execution_count": null,
   "metadata": {},
   "outputs": [],
   "source": [
    "\n",
    "# syndat.sammy_interface.write_estruct_file(E, '/Users/noahwalton/research_local/resonance_fitting/synthetic_data/Ta181/estruct_rpi_open')"
   ]
  },
  {
   "cell_type": "code",
   "execution_count": null,
   "metadata": {},
   "outputs": [],
   "source": [
    "# write estruct file for smooth open data\n",
    "# syndat.sammy_interface.write_estruct_file(smoothed_odat.E, '/Users/noahwalton/research_local/resonance_fitting/synthetic_data/Ta181/estruct_smoothopen')"
   ]
  },
  {
   "cell_type": "code",
   "execution_count": null,
   "metadata": {},
   "outputs": [],
   "source": []
  }
 ],
 "metadata": {
  "kernelspec": {
   "display_name": "Python 3.9.12 ('base')",
   "language": "python",
   "name": "python3"
  },
  "language_info": {
   "codemirror_mode": {
    "name": "ipython",
    "version": 3
   },
   "file_extension": ".py",
   "mimetype": "text/x-python",
   "name": "python",
   "nbconvert_exporter": "python",
   "pygments_lexer": "ipython3",
   "version": "3.9.12"
  },
  "orig_nbformat": 4,
  "vscode": {
   "interpreter": {
    "hash": "047c744d43408600348b3016f39faaa99d5e305481fe389db058edacf37a0a5c"
   }
  }
 },
 "nbformat": 4,
 "nbformat_minor": 2
}
