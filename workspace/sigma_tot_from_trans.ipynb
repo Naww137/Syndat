{
 "cells": [
  {
   "cell_type": "markdown",
   "metadata": {},
   "source": [
    "## Conversion from T to xs and uncertainty propagation\n",
    "\n",
    "This shall be implemented into the syndat package in the future, however it is not yet. The following code could be sped up significantly!\n",
    "\n",
    "This step is often not needed because the transmission dataset is what is fit. This avoids issues with negative or zeros transmission values (resulting in NaN or infinite cross section values)."
   ]
  },
  {
   "cell_type": "code",
   "execution_count": 2,
   "metadata": {},
   "outputs": [],
   "source": [
    "# xs_theo = (-1/gen.redpar.val.n)*np.log(red.trans.theo)\n",
    "\n",
    "# xs_exp = (-1/gen.redpar.val.n)*np.log(red.trans.expT)\n",
    "\n",
    "# exp.trans['theo_xs'] = xs_theo\n",
    "# exp.trans['exp_xs'] = xs_exp\n",
    "\n",
    "# dXi_dn = (1/exp.redpar.val.n**2) * np.log(exp.trans.theo)\n",
    "# dXi_dT = (-1/exp.redpar.val.n) * (1/exp.trans.theo)\n",
    "\n",
    "# Jac = np.vstack((np.diag(dXi_dT),dXi_dn))\n",
    "\n",
    "# CovT = spla.block_diag(exp.CovT,exp.redpar.unc.n**2)\n",
    "\n",
    "# CovXS = Jac.T @ CovT @ Jac"
   ]
  },
  {
   "cell_type": "code",
   "execution_count": 3,
   "metadata": {},
   "outputs": [],
   "source": [
    "# exp.trans['exp_xs_unc'] = np.sqrt(np.diag(CovXS))\n",
    "# exp.trans"
   ]
  },
  {
   "cell_type": "code",
   "execution_count": 4,
   "metadata": {},
   "outputs": [],
   "source": [
    "\n",
    "\n",
    "# fig,ax = subplots(1,2, figsize=(12,6))\n",
    "# suptitle('Theoretical and experimental total cross section')\n",
    "\n",
    "# ax[0].scatter(exp.trans.E, xs_exp, marker='.', color='k', s=1, label='exp')\n",
    "# ax[0].plot(exp.trans.E, xs_theo)\n",
    "# ax[0].set_xscale('log'); ax[0].set_yscale('log')\n",
    "# ax[0].set_ylim(3,250)\n",
    "# ax[0].set_xlabel('E')\n",
    "\n",
    "# ax[1].scatter(exp.trans.E, xs_exp, marker='.', color='k', s=1, label='exp')\n",
    "# ax[1].errorbar(exp.trans.E, xs_exp, yerr=exp.trans.exp_xs_unc, color='k',ecolor='k',elinewidth=1,capsize=2, fmt='.', ms=3)\n",
    "# ax[1].set_ylim(3,250)\n",
    "# ax[1].set_xscale('log'); ax[1].set_yscale('log')\n",
    "# ax[1].set_xlabel('E')\n",
    "\n",
    "# # ax[0].set_xlim([250,500])\n",
    "# # ax[1].set_xlim([250,500])\n",
    "# ax[0].set_xlim([17,50])\n",
    "# ax[1].set_xlim([17,50])"
   ]
  },
  {
   "cell_type": "code",
   "execution_count": 5,
   "metadata": {},
   "outputs": [],
   "source": [
    "# dxs_xs= exp.trans.exp_xs_unc/exp.trans.exp_xs\n",
    "\n",
    "# print(np.where(dxs_xs==max(dxs_xs)))\n",
    "# print(np.where(exp.trans.exp_xs == min(exp.trans.exp_xs)))\n",
    "\n",
    "# print(exp.trans.exp_xs_unc[12434])\n",
    "# print(exp.trans.exp_xs[12434])\n",
    "# print(exp.trans.theo[12434])\n",
    "# print(exp.trans.dT[12434])\n",
    "\n",
    "# new_data = exp.trans.loc[(exp.trans['E']<50) & (exp.trans['E']>17)]\n",
    "# new_data[['E', 'exp_xs', 'exp_xs_unc']]\n",
    "\n",
    "# syndat.sammy_interface.write_samdat(new_data[['E', 'exp_xs', 'exp_xs_unc']], '../synthetic_data/Ta181/verify_slbw/2res_trans')"
   ]
  },
  {
   "cell_type": "markdown",
   "metadata": {},
   "source": [
    "### Use syndat to plot the noise and uncertainty in the experimental data\n"
   ]
  },
  {
   "cell_type": "code",
   "execution_count": null,
   "metadata": {},
   "outputs": [],
   "source": [
    "# syndat.plot.unc_noise_theo(exp.trans.tof, exp.trans.theo_trans, exp.trans.exp_trans, exp.trans.exp_trans_unc)"
   ]
  }
 ],
 "metadata": {
  "kernelspec": {
   "display_name": "Python 3.9.12 ('base')",
   "language": "python",
   "name": "python3"
  },
  "language_info": {
   "codemirror_mode": {
    "name": "ipython",
    "version": 3
   },
   "file_extension": ".py",
   "mimetype": "text/x-python",
   "name": "python",
   "nbconvert_exporter": "python",
   "pygments_lexer": "ipython3",
   "version": "3.9.12"
  },
  "orig_nbformat": 4,
  "vscode": {
   "interpreter": {
    "hash": "047c744d43408600348b3016f39faaa99d5e305481fe389db058edacf37a0a5c"
   }
  }
 },
 "nbformat": 4,
 "nbformat_minor": 2
}
