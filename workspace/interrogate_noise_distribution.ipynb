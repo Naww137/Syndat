{
 "cells": [
  {
   "cell_type": "code",
   "execution_count": 4,
   "metadata": {},
   "outputs": [],
   "source": [
    "import numpy as np\n",
    "import pandas as pd\n",
    "from matplotlib.pyplot import *\n",
    "import syndat\n",
    "import os"
   ]
  },
  {
   "cell_type": "code",
   "execution_count": 3,
   "metadata": {},
   "outputs": [],
   "source": [
    "%matplotlib widget"
   ]
  },
  {
   "cell_type": "markdown",
   "metadata": {},
   "source": [
    "## Methodology for interrogating noise distributions\n",
    "Write a high level overview here"
   ]
  },
  {
   "cell_type": "markdown",
   "metadata": {},
   "source": [
    "### Run syndat methodology over the same fixed resonances to build up noise distributions\n",
    "\n",
    "The distribution of residuals around the true value are all centered at 0 and seem very normal. \n",
    "\n",
    "Many of the energy points pass the pearson chi^2 normality tests but non pass the anderson darling test."
   ]
  },
  {
   "cell_type": "code",
   "execution_count": 1,
   "metadata": {},
   "outputs": [
    {
     "ename": "NameError",
     "evalue": "name 'exp' is not defined",
     "output_type": "error",
     "traceback": [
      "\u001b[0;31m---------------------------------------------------------------------------\u001b[0m",
      "\u001b[0;31mNameError\u001b[0m                                 Traceback (most recent call last)",
      "\u001b[0;32m/var/folders/s9/xdv2y9hs0y7g3zzscy35rz4c0000gn/T/ipykernel_55966/868519588.py\u001b[0m in \u001b[0;36m<cell line: 2>\u001b[0;34m()\u001b[0m\n\u001b[1;32m      3\u001b[0m     \u001b[0mlst_file\u001b[0m \u001b[0;34m=\u001b[0m \u001b[0mos\u001b[0m\u001b[0;34m.\u001b[0m\u001b[0mpath\u001b[0m\u001b[0;34m.\u001b[0m\u001b[0mjoin\u001b[0m\u001b[0;34m(\u001b[0m\u001b[0;34m\"/Users/noahwalton/research_local/resonance_fitting/synthetic_data/Ta181/cole_NN/SAMMY_FixedRes.LST\"\u001b[0m\u001b[0;34m)\u001b[0m\u001b[0;34m\u001b[0m\u001b[0;34m\u001b[0m\u001b[0m\n\u001b[1;32m      4\u001b[0m \u001b[0;34m\u001b[0m\u001b[0m\n\u001b[0;32m----> 5\u001b[0;31m     \u001b[0mexp\u001b[0m\u001b[0;34m.\u001b[0m\u001b[0mget_bkg\u001b[0m\u001b[0;34m(\u001b[0m\u001b[0;34m)\u001b[0m\u001b[0;34m\u001b[0m\u001b[0;34m\u001b[0m\u001b[0m\n\u001b[0m\u001b[1;32m      6\u001b[0m     \u001b[0mexp\u001b[0m\u001b[0;34m.\u001b[0m\u001b[0mget_sdat\u001b[0m\u001b[0;34m(\u001b[0m\u001b[0mlst_file\u001b[0m\u001b[0;34m)\u001b[0m\u001b[0;34m\u001b[0m\u001b[0;34m\u001b[0m\u001b[0m\n\u001b[1;32m      7\u001b[0m     \u001b[0mexp\u001b[0m\u001b[0;34m.\u001b[0m\u001b[0mgenerate_raw_data\u001b[0m\u001b[0;34m(\u001b[0m\u001b[0;32mTrue\u001b[0m\u001b[0;34m)\u001b[0m\u001b[0;34m\u001b[0m\u001b[0;34m\u001b[0m\u001b[0m\n",
      "\u001b[0;31mNameError\u001b[0m: name 'exp' is not defined"
     ]
    }
   ],
   "source": [
    "fixed_res_lst = os.path.join(\"/Users/noahwalton/research_local/resonance_fitting/synthetic_data/Ta181/cole_NN/SAMMY_FixedRes.LST\")\n",
    "\n",
    " all_samples = []\n",
    "for i in range(10):\n",
    "\n",
    "    exp.get_bkg()\n",
    "    exp.get_sdat(lst_file)\n",
    "    exp.generate_raw_data(True)\n",
    "    exp.reduce_raw_data()\n",
    "    exp.trans.sort_values('E', inplace=True, ignore_index=True)\n",
    "    # print(exp.trans); print(fixed)\n",
    "\n",
    "    # saving residual for Cole's NN training\n",
    "    residual = np.array(exp.trans.exp_trans - exp.trans.theo_trans)\n",
    "    all_samples.append(residual)\n",
    "    \n",
    "all_samples = np.array(all_samples).T\n",
    "print(np.shape(all_samples))\n",
    "len(all_samples[0])"
   ]
  },
  {
   "cell_type": "code",
   "execution_count": null,
   "metadata": {},
   "outputs": [],
   "source": [
    "from statistics import mean\n",
    "import scipy.stats as sts\n",
    "\n",
    "mean_vec = []; std_vec = []\n",
    "pass_pearson = []; pass_anderson = []\n",
    "\n",
    "for sample in all_samples:\n",
    "    mean_vec.append(np.mean(sample))\n",
    "    std_vec.append(np.std(sample))\n",
    "    k2, p_pearson = sts.normaltest(sample)\n",
    "    stat, crit, sig = sts.anderson(sample)\n",
    "    if p_pearson < 0.05:\n",
    "        pass_pearson.append(1)\n",
    "    else:\n",
    "        pass_pearson.append(0)\n",
    "    if stat < crit[2]:\n",
    "        pass_anderson.append(1)\n",
    "    else:\n",
    "        pass_anderson.append(0)\n",
    "\n",
    "mean_vec = np.array(mean_vec)\n",
    "std_vec = np.array(std_vec)\n",
    "\n",
    "print(pass_pearson.count(1))\n",
    "print(pass_anderson.count(1))\n",
    "\n",
    "figure()\n",
    "hist(all_samples[5], bins=25, density=True, edgecolor='k')\n",
    "\n",
    "figure()\n",
    "# errorbar(fixed.E, mean_vec, yerr=std_vec, fmt='.', capsize=.5)\n",
    "scatter(fixed.E, np.array(pass_pearson)*0.04, color = 'g')\n",
    "plot(fixed.E, mean_vec)\n",
    "plot(fixed.E, mean_vec+std_vec, 'r')\n",
    "plot(fixed.E, mean_vec-std_vec, 'r')\n",
    "ylim([-0.05, 0.05])\n",
    "ylabel('Mean/std of Residual')\n",
    "xlabel('Energy')"
   ]
  }
 ],
 "metadata": {
  "kernelspec": {
   "display_name": "Python 3.9.12 ('base')",
   "language": "python",
   "name": "python3"
  },
  "language_info": {
   "codemirror_mode": {
    "name": "ipython",
    "version": 3
   },
   "file_extension": ".py",
   "mimetype": "text/x-python",
   "name": "python",
   "nbconvert_exporter": "python",
   "pygments_lexer": "ipython3",
   "version": "3.9.12"
  },
  "orig_nbformat": 4,
  "vscode": {
   "interpreter": {
    "hash": "047c744d43408600348b3016f39faaa99d5e305481fe389db058edacf37a0a5c"
   }
  }
 },
 "nbformat": 4,
 "nbformat_minor": 2
}
