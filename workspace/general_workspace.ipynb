{
 "cells": [
  {
   "cell_type": "markdown",
   "metadata": {},
   "source": [
    "## Workspace"
   ]
  },
  {
   "cell_type": "code",
   "execution_count": 2,
   "metadata": {},
   "outputs": [],
   "source": [
    "import syndat"
   ]
  },
  {
   "cell_type": "code",
   "execution_count": 4,
   "metadata": {},
   "outputs": [
    {
     "name": "stdout",
     "output_type": "stream",
     "text": [
      "\n",
      "The following arrays describe all possible spin groups for a each parity.\n",
      "    The data is given as a tuple where the first value is the integer \n",
      "    or half integer total quantum spin J and the second value is the \n",
      "    number of entrance channels for that spin group. \n",
      "    * See the dictionary \"possible_Jpi\" for a nested packing structure.\n",
      "\n",
      "Spin group data for negative parity\n",
      "(J-, #Chs, l-waves)\n",
      "(2.0, 1, [1.0])\n",
      "(3.0, 2, [1.0, 1.0])\n",
      "(4.0, 2, [1.0, 1.0])\n",
      "(5.0, 1, [1.0])\n",
      "\n",
      "Spin group data for positive parity\n",
      "(J+, #Chs, l-waves)\n",
      "(3.0, 1, [0.0])\n",
      "(4.0, 1, [0.0])\n"
     ]
    }
   ],
   "source": [
    "\n",
    "\n",
    "ac = 0.81271 # 0.81271 # 8.1271e-15 # scattering radius in 1e-12 cm\n",
    "M = 180.948030  # amu of target nucleus\n",
    "m = 1           # amu of incident neutron\n",
    "I = 3.5         # intrinsic spin, positive parity\n",
    "i = 0.5         # intrinsic spin, positive parity\n",
    "l_max = 1     # highest order l-wave to consider\n",
    "\n",
    "Ta_pair = syndat.particle_pair(ac, M, m, I, i, l_max)\n",
    "\n",
    "Ta_pair.map_quantum_numbers(True)"
   ]
  },
  {
   "cell_type": "code",
   "execution_count": null,
   "metadata": {},
   "outputs": [],
   "source": []
  }
 ],
 "metadata": {
  "kernelspec": {
   "display_name": "Python 3.9.12 ('base')",
   "language": "python",
   "name": "python3"
  },
  "language_info": {
   "codemirror_mode": {
    "name": "ipython",
    "version": 3
   },
   "file_extension": ".py",
   "mimetype": "text/x-python",
   "name": "python",
   "nbconvert_exporter": "python",
   "pygments_lexer": "ipython3",
   "version": "3.9.12"
  },
  "orig_nbformat": 4,
  "vscode": {
   "interpreter": {
    "hash": "047c744d43408600348b3016f39faaa99d5e305481fe389db058edacf37a0a5c"
   }
  }
 },
 "nbformat": 4,
 "nbformat_minor": 2
}
