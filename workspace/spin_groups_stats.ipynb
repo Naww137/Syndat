{
 "cells": [
  {
   "cell_type": "markdown",
   "metadata": {},
   "source": [
    "## Spin groups and statistics"
   ]
  },
  {
   "cell_type": "code",
   "execution_count": 1,
   "metadata": {},
   "outputs": [
    {
     "ename": "NameError",
     "evalue": "name 'syndat' is not defined",
     "output_type": "error",
     "traceback": [
      "\u001b[0;31m---------------------------------------------------------------------------\u001b[0m",
      "\u001b[0;31mNameError\u001b[0m                                 Traceback (most recent call last)",
      "\u001b[0;32m/var/folders/s9/xdv2y9hs0y7g3zzscy35rz4c0000gn/T/ipykernel_68092/307758379.py\u001b[0m in \u001b[0;36m<cell line: 1>\u001b[0;34m()\u001b[0m\n\u001b[0;32m----> 1\u001b[0;31m \u001b[0mch2\u001b[0m \u001b[0;34m=\u001b[0m \u001b[0msyndat\u001b[0m\u001b[0;34m.\u001b[0m\u001b[0msample_widths\u001b[0m\u001b[0;34m.\u001b[0m\u001b[0msample_chisquare\u001b[0m\u001b[0;34m(\u001b[0m\u001b[0;36m10000\u001b[0m\u001b[0;34m,\u001b[0m \u001b[0;36m10\u001b[0m\u001b[0;34m)\u001b[0m\u001b[0;34m*\u001b[0m\u001b[0;36m65\u001b[0m\u001b[0;34m/\u001b[0m\u001b[0;36m10\u001b[0m\u001b[0;34m\u001b[0m\u001b[0;34m\u001b[0m\u001b[0m\n\u001b[0m\u001b[1;32m      2\u001b[0m \u001b[0mfigure\u001b[0m\u001b[0;34m(\u001b[0m\u001b[0;34m)\u001b[0m\u001b[0;34m\u001b[0m\u001b[0;34m\u001b[0m\u001b[0m\n\u001b[1;32m      3\u001b[0m \u001b[0mhist\u001b[0m\u001b[0;34m(\u001b[0m\u001b[0mch2\u001b[0m\u001b[0;34m,\u001b[0m \u001b[0mbins\u001b[0m\u001b[0;34m=\u001b[0m\u001b[0;36m25\u001b[0m\u001b[0;34m)\u001b[0m\u001b[0;34m\u001b[0m\u001b[0;34m\u001b[0m\u001b[0m\n",
      "\u001b[0;31mNameError\u001b[0m: name 'syndat' is not defined"
     ]
    }
   ],
   "source": [
    "\n",
    "ch2 = syndat.sample_widths.sample_chisquare(10000, 10)*65/10\n",
    "figure()\n",
    "hist(ch2, bins=25)\n"
   ]
  },
  {
   "cell_type": "code",
   "execution_count": null,
   "metadata": {},
   "outputs": [],
   "source": [
    "# wig1 = syndat.sample_wigner_invCDF(10000)*3\n",
    "# wig2 = syndat.sample_wigner_invCDF(10000)\n",
    "# total = np.append(wig1,wig2)\n",
    "# gb = endf_par.groupby('jspin')\n",
    "# dfs_by_spin=[gb.get_group(x) for x in gb.groups]\n",
    "# j3 = dfs_by_spin[0]\n",
    "# j4 = dfs_by_spin[1]\n",
    "\n",
    "# dE_j3 = np.diff(j3.E)\n",
    "# dE_avg_j3 = endf_avg.dE[1]\n",
    "\n",
    "# PT1 = syndat.sample_widths.sample_chisquare(10000,1)\n",
    "# PT2 = syndat.sample_widths.sample_chisquare(10000,1)\n",
    "\n",
    "# PT1 = PT1[PT1>0.2]\n",
    "# PT2 = PT2[PT2<0.2]\n",
    "\n",
    "# tot = np.append(PT1,PT2)\n",
    "\n",
    "# figure()\n",
    "# hist(PT1,bins=200,density=True)\n",
    "\n",
    "# x = np.linspace(0,6,100)\n",
    "# plot(x,syndat.sample_widths.chisquare_PDF(x, 1, 1))\n",
    "# xlim([0,8])"
   ]
  }
 ],
 "metadata": {
  "kernelspec": {
   "display_name": "Python 3.9.12 ('base')",
   "language": "python",
   "name": "python3"
  },
  "language_info": {
   "codemirror_mode": {
    "name": "ipython",
    "version": 3
   },
   "file_extension": ".py",
   "mimetype": "text/x-python",
   "name": "python",
   "nbconvert_exporter": "python",
   "pygments_lexer": "ipython3",
   "version": "3.9.12"
  },
  "orig_nbformat": 4,
  "vscode": {
   "interpreter": {
    "hash": "047c744d43408600348b3016f39faaa99d5e305481fe389db058edacf37a0a5c"
   }
  }
 },
 "nbformat": 4,
 "nbformat_minor": 2
}
